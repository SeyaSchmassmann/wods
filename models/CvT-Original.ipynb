{
  "cells": [
    {
      "cell_type": "markdown",
      "metadata": {
        "id": "gPI9Fj_Pes3L"
      },
      "source": [
        "# Original CvT-Model\n",
        "\n",
        "<img src=\"./../CvT-Original.drawio.png?raw=1\" alt=\"CvT-Modell mit Convolutional Embedding\" title=\"CvT-Modell mit Convolutional Embedding\" height=\"400\" />\n",
        "\n",
        "Dimensions sind ohne Batch-Size.\n",
        "\n",
        "## Input-Dimensions\n",
        "\n",
        "**Dimensions:** $H_0 = 64px, \\quad W_0 = 64px, \\quad C_0 = 3$ \\\n",
        "**Output-Shape:** `(3, 64, 64)`\n",
        "\n",
        "## Conv2d\n",
        "\n",
        "Berechnung Output-Dimensions:\n",
        "\n",
        "$ \\text{kernel size}\\ k = 7, \\quad \\text{stride}\\ s = 4, \\quad \\text{padding}\\ p = 3 $ \\\n",
        "$ H_i = \\frac{H_{i-1} + 2p - k}{s}\\ + 1, \\quad W_i = \\frac{W_{i-1} + 2p - k}{s}\\ + 1 $\n",
        "\n",
        "**Output-Dimensions:** $H_1 = 16px, \\quad W_1 = 16px, \\quad C_1 = 64$ \\\n",
        "**Output-Shape:** `(64, 16, 16)`\n",
        "\n",
        "## Flatten\n",
        "\n",
        "**Output-Dimensions:** $H_1 W_1 \\times C_1 = 16*16 \\times 64$ \\\n",
        "**Output-Shape:** `(256, 64)`\n",
        "\n",
        "## Conv Projection\n",
        "\n",
        "\n",
        "\n",
        "## Multi-Head Attention\n",
        "\n",
        "Berechnung der Query-, Key- und Value-Matrizen:\n",
        "\n",
        "$X \\in \\mathbb{R}^{H_1 W_1 \\times C_1}$ \\\n",
        "$d_k$ ist die Dimension der Value-, Query- und Key-Vektoren \\\n",
        "$W^Q, W^K, W^V \\in \\mathbb{R}^{C_1 \\times d_k}$ \\\n",
        "$Q = XW^Q, \\quad K = XW^K, \\quad V = XW^V$\n",
        "\n",
        "$d_k = 64$ \\\n",
        "$Q, K, V \\in \\mathbb{R}^{256 \\times 64}$\n",
        "\n",
        "**Output-Dimensions:** $256 \\times 64$ \\\n",
        "**Output-Shape:** `(256, 64)`\n",
        "\n",
        "## MLP\n",
        "\n",
        "Expansion factor: $e = 4$\n",
        "\n",
        "1. **Step:** Linear ➔ GELU ➔ Dropout\n",
        "   \n",
        "   **Output-Dimensions:** $256 \\times 64 \\times 4 = 256 \\times 256$ \\\n",
        "   **Output-Shape:** `(256, 256)`\n",
        "\n",
        "2. **Step:** Linear ➔ Dropout\n",
        "\n",
        "    **Output-Dimensions:** $256 \\times 256 \\times 64 = 256 \\times 64$ \\\n",
        "    **Output-Shape:** `(256, 64)`\n"
      ]
    },
    {
      "cell_type": "markdown",
      "metadata": {
        "id": "6ul2uMlQes3O"
      },
      "source": [
        "# Imports"
      ]
    },
    {
      "cell_type": "code",
      "execution_count": 1,
      "metadata": {
        "id": "nIi1ayzAfHT0"
      },
      "outputs": [
        {
          "name": "stdout",
          "output_type": "stream",
          "text": [
            "Requirement already satisfied: pytorch-lightning in /usr/local/lib/python3.11/dist-packages (2.5.1.post0)\n",
            "Requirement already satisfied: torch>=2.1.0 in /usr/local/lib/python3.11/dist-packages (from pytorch-lightning) (2.1.1+cu121)\n",
            "Requirement already satisfied: tqdm>=4.57.0 in /usr/local/lib/python3.11/dist-packages (from pytorch-lightning) (4.66.1)\n",
            "Requirement already satisfied: PyYAML>=5.4 in /usr/lib/python3/dist-packages (from pytorch-lightning) (5.4.1)\n",
            "Requirement already satisfied: fsspec>=2022.5.0 in /usr/local/lib/python3.11/dist-packages (from fsspec[http]>=2022.5.0->pytorch-lightning) (2023.6.0)\n",
            "Requirement already satisfied: torchmetrics>=0.7.0 in /usr/local/lib/python3.11/dist-packages (from pytorch-lightning) (1.7.1)\n",
            "Requirement already satisfied: packaging>=20.0 in /usr/local/lib/python3.11/dist-packages (from pytorch-lightning) (23.2)\n",
            "Requirement already satisfied: typing-extensions>=4.4.0 in /usr/local/lib/python3.11/dist-packages (from pytorch-lightning) (4.9.0)\n",
            "Requirement already satisfied: lightning-utilities>=0.10.0 in /usr/local/lib/python3.11/dist-packages (from pytorch-lightning) (0.14.3)\n",
            "Requirement already satisfied: requests in /usr/local/lib/python3.11/dist-packages (from fsspec[http]>=2022.5.0->pytorch-lightning) (2.31.0)\n",
            "Requirement already satisfied: aiohttp!=4.0.0a0,!=4.0.0a1 in /usr/local/lib/python3.11/dist-packages (from fsspec[http]>=2022.5.0->pytorch-lightning) (3.9.1)\n",
            "Requirement already satisfied: setuptools in /usr/local/lib/python3.11/dist-packages (from lightning-utilities>=0.10.0->pytorch-lightning) (69.0.3)\n",
            "Requirement already satisfied: filelock in /usr/local/lib/python3.11/dist-packages (from torch>=2.1.0->pytorch-lightning) (3.13.1)\n",
            "Requirement already satisfied: sympy in /usr/local/lib/python3.11/dist-packages (from torch>=2.1.0->pytorch-lightning) (1.12)\n",
            "Requirement already satisfied: networkx in /usr/local/lib/python3.11/dist-packages (from torch>=2.1.0->pytorch-lightning) (3.2.1)\n",
            "Requirement already satisfied: jinja2 in /usr/local/lib/python3.11/dist-packages (from torch>=2.1.0->pytorch-lightning) (3.1.3)\n",
            "Requirement already satisfied: triton==2.1.0 in /usr/local/lib/python3.11/dist-packages (from torch>=2.1.0->pytorch-lightning) (2.1.0)\n",
            "Requirement already satisfied: numpy>1.20.0 in /usr/local/lib/python3.11/dist-packages (from torchmetrics>=0.7.0->pytorch-lightning) (1.26.3)\n",
            "Requirement already satisfied: attrs>=17.3.0 in /usr/local/lib/python3.11/dist-packages (from aiohttp!=4.0.0a0,!=4.0.0a1->fsspec[http]>=2022.5.0->pytorch-lightning) (23.1.0)\n",
            "Requirement already satisfied: multidict<7.0,>=4.5 in /usr/local/lib/python3.11/dist-packages (from aiohttp!=4.0.0a0,!=4.0.0a1->fsspec[http]>=2022.5.0->pytorch-lightning) (6.0.4)\n",
            "Requirement already satisfied: yarl<2.0,>=1.0 in /usr/local/lib/python3.11/dist-packages (from aiohttp!=4.0.0a0,!=4.0.0a1->fsspec[http]>=2022.5.0->pytorch-lightning) (1.9.4)\n",
            "Requirement already satisfied: frozenlist>=1.1.1 in /usr/local/lib/python3.11/dist-packages (from aiohttp!=4.0.0a0,!=4.0.0a1->fsspec[http]>=2022.5.0->pytorch-lightning) (1.4.1)\n",
            "Requirement already satisfied: aiosignal>=1.1.2 in /usr/local/lib/python3.11/dist-packages (from aiohttp!=4.0.0a0,!=4.0.0a1->fsspec[http]>=2022.5.0->pytorch-lightning) (1.3.1)\n",
            "Requirement already satisfied: MarkupSafe>=2.0 in /usr/local/lib/python3.11/dist-packages (from jinja2->torch>=2.1.0->pytorch-lightning) (2.1.4)\n",
            "Requirement already satisfied: charset-normalizer<4,>=2 in /usr/local/lib/python3.11/dist-packages (from requests->fsspec[http]>=2022.5.0->pytorch-lightning) (3.3.2)\n",
            "Requirement already satisfied: idna<4,>=2.5 in /usr/lib/python3/dist-packages (from requests->fsspec[http]>=2022.5.0->pytorch-lightning) (3.3)\n",
            "Requirement already satisfied: urllib3<3,>=1.21.1 in /usr/local/lib/python3.11/dist-packages (from requests->fsspec[http]>=2022.5.0->pytorch-lightning) (2.0.7)\n",
            "Requirement already satisfied: certifi>=2017.4.17 in /usr/lib/python3/dist-packages (from requests->fsspec[http]>=2022.5.0->pytorch-lightning) (2020.6.20)\n",
            "Requirement already satisfied: mpmath>=0.19 in /usr/local/lib/python3.11/dist-packages (from sympy->torch>=2.1.0->pytorch-lightning) (1.3.0)\n",
            "\u001b[33mWARNING: Running pip as the 'root' user can result in broken permissions and conflicting behaviour with the system package manager. It is recommended to use a virtual environment instead: https://pip.pypa.io/warnings/venv\u001b[0m\u001b[33m\n",
            "\u001b[0mNote: you may need to restart the kernel to use updated packages.\n",
            "Requirement already satisfied: torch in /usr/local/lib/python3.11/dist-packages (2.1.1+cu121)\n",
            "Requirement already satisfied: torchvision in /usr/local/lib/python3.11/dist-packages (0.16.1+cu121)\n",
            "Requirement already satisfied: filelock in /usr/local/lib/python3.11/dist-packages (from torch) (3.13.1)\n",
            "Requirement already satisfied: typing-extensions in /usr/local/lib/python3.11/dist-packages (from torch) (4.9.0)\n",
            "Requirement already satisfied: sympy in /usr/local/lib/python3.11/dist-packages (from torch) (1.12)\n",
            "Requirement already satisfied: networkx in /usr/local/lib/python3.11/dist-packages (from torch) (3.2.1)\n",
            "Requirement already satisfied: jinja2 in /usr/local/lib/python3.11/dist-packages (from torch) (3.1.3)\n",
            "Requirement already satisfied: fsspec in /usr/local/lib/python3.11/dist-packages (from torch) (2023.6.0)\n",
            "Requirement already satisfied: triton==2.1.0 in /usr/local/lib/python3.11/dist-packages (from torch) (2.1.0)\n",
            "Requirement already satisfied: numpy in /usr/local/lib/python3.11/dist-packages (from torchvision) (1.26.3)\n",
            "Requirement already satisfied: requests in /usr/local/lib/python3.11/dist-packages (from torchvision) (2.31.0)\n",
            "Requirement already satisfied: pillow!=8.3.*,>=5.3.0 in /usr/local/lib/python3.11/dist-packages (from torchvision) (9.5.0)\n",
            "Requirement already satisfied: MarkupSafe>=2.0 in /usr/local/lib/python3.11/dist-packages (from jinja2->torch) (2.1.4)\n",
            "Requirement already satisfied: charset-normalizer<4,>=2 in /usr/local/lib/python3.11/dist-packages (from requests->torchvision) (3.3.2)\n",
            "Requirement already satisfied: idna<4,>=2.5 in /usr/lib/python3/dist-packages (from requests->torchvision) (3.3)\n",
            "Requirement already satisfied: urllib3<3,>=1.21.1 in /usr/local/lib/python3.11/dist-packages (from requests->torchvision) (2.0.7)\n",
            "Requirement already satisfied: certifi>=2017.4.17 in /usr/lib/python3/dist-packages (from requests->torchvision) (2020.6.20)\n",
            "Requirement already satisfied: mpmath>=0.19 in /usr/local/lib/python3.11/dist-packages (from sympy->torch) (1.3.0)\n",
            "\u001b[33mWARNING: Running pip as the 'root' user can result in broken permissions and conflicting behaviour with the system package manager. It is recommended to use a virtual environment instead: https://pip.pypa.io/warnings/venv\u001b[0m\u001b[33m\n",
            "\u001b[0mNote: you may need to restart the kernel to use updated packages.\n",
            "Requirement already satisfied: lightning in /usr/local/lib/python3.11/dist-packages (2.5.1.post0)\n",
            "Requirement already satisfied: PyYAML<8.0,>=5.4 in /usr/lib/python3/dist-packages (from lightning) (5.4.1)\n",
            "Requirement already satisfied: fsspec<2026.0,>=2022.5.0 in /usr/local/lib/python3.11/dist-packages (from fsspec[http]<2026.0,>=2022.5.0->lightning) (2023.6.0)\n",
            "Requirement already satisfied: lightning-utilities<2.0,>=0.10.0 in /usr/local/lib/python3.11/dist-packages (from lightning) (0.14.3)\n",
            "Requirement already satisfied: packaging<25.0,>=20.0 in /usr/local/lib/python3.11/dist-packages (from lightning) (23.2)\n",
            "Requirement already satisfied: torch<4.0,>=2.1.0 in /usr/local/lib/python3.11/dist-packages (from lightning) (2.1.1+cu121)\n",
            "Requirement already satisfied: torchmetrics<3.0,>=0.7.0 in /usr/local/lib/python3.11/dist-packages (from lightning) (1.7.1)\n",
            "Requirement already satisfied: tqdm<6.0,>=4.57.0 in /usr/local/lib/python3.11/dist-packages (from lightning) (4.66.1)\n",
            "Requirement already satisfied: typing-extensions<6.0,>=4.4.0 in /usr/local/lib/python3.11/dist-packages (from lightning) (4.9.0)\n",
            "Requirement already satisfied: pytorch-lightning in /usr/local/lib/python3.11/dist-packages (from lightning) (2.5.1.post0)\n",
            "Requirement already satisfied: requests in /usr/local/lib/python3.11/dist-packages (from fsspec[http]<2026.0,>=2022.5.0->lightning) (2.31.0)\n",
            "Requirement already satisfied: aiohttp!=4.0.0a0,!=4.0.0a1 in /usr/local/lib/python3.11/dist-packages (from fsspec[http]<2026.0,>=2022.5.0->lightning) (3.9.1)\n",
            "Requirement already satisfied: setuptools in /usr/local/lib/python3.11/dist-packages (from lightning-utilities<2.0,>=0.10.0->lightning) (69.0.3)\n",
            "Requirement already satisfied: filelock in /usr/local/lib/python3.11/dist-packages (from torch<4.0,>=2.1.0->lightning) (3.13.1)\n",
            "Requirement already satisfied: sympy in /usr/local/lib/python3.11/dist-packages (from torch<4.0,>=2.1.0->lightning) (1.12)\n",
            "Requirement already satisfied: networkx in /usr/local/lib/python3.11/dist-packages (from torch<4.0,>=2.1.0->lightning) (3.2.1)\n",
            "Requirement already satisfied: jinja2 in /usr/local/lib/python3.11/dist-packages (from torch<4.0,>=2.1.0->lightning) (3.1.3)\n",
            "Requirement already satisfied: triton==2.1.0 in /usr/local/lib/python3.11/dist-packages (from torch<4.0,>=2.1.0->lightning) (2.1.0)\n",
            "Requirement already satisfied: numpy>1.20.0 in /usr/local/lib/python3.11/dist-packages (from torchmetrics<3.0,>=0.7.0->lightning) (1.26.3)\n",
            "Requirement already satisfied: attrs>=17.3.0 in /usr/local/lib/python3.11/dist-packages (from aiohttp!=4.0.0a0,!=4.0.0a1->fsspec[http]<2026.0,>=2022.5.0->lightning) (23.1.0)\n",
            "Requirement already satisfied: multidict<7.0,>=4.5 in /usr/local/lib/python3.11/dist-packages (from aiohttp!=4.0.0a0,!=4.0.0a1->fsspec[http]<2026.0,>=2022.5.0->lightning) (6.0.4)\n",
            "Requirement already satisfied: yarl<2.0,>=1.0 in /usr/local/lib/python3.11/dist-packages (from aiohttp!=4.0.0a0,!=4.0.0a1->fsspec[http]<2026.0,>=2022.5.0->lightning) (1.9.4)\n",
            "Requirement already satisfied: frozenlist>=1.1.1 in /usr/local/lib/python3.11/dist-packages (from aiohttp!=4.0.0a0,!=4.0.0a1->fsspec[http]<2026.0,>=2022.5.0->lightning) (1.4.1)\n",
            "Requirement already satisfied: aiosignal>=1.1.2 in /usr/local/lib/python3.11/dist-packages (from aiohttp!=4.0.0a0,!=4.0.0a1->fsspec[http]<2026.0,>=2022.5.0->lightning) (1.3.1)\n",
            "Requirement already satisfied: MarkupSafe>=2.0 in /usr/local/lib/python3.11/dist-packages (from jinja2->torch<4.0,>=2.1.0->lightning) (2.1.4)\n",
            "Requirement already satisfied: charset-normalizer<4,>=2 in /usr/local/lib/python3.11/dist-packages (from requests->fsspec[http]<2026.0,>=2022.5.0->lightning) (3.3.2)\n",
            "Requirement already satisfied: idna<4,>=2.5 in /usr/lib/python3/dist-packages (from requests->fsspec[http]<2026.0,>=2022.5.0->lightning) (3.3)\n",
            "Requirement already satisfied: urllib3<3,>=1.21.1 in /usr/local/lib/python3.11/dist-packages (from requests->fsspec[http]<2026.0,>=2022.5.0->lightning) (2.0.7)\n",
            "Requirement already satisfied: certifi>=2017.4.17 in /usr/lib/python3/dist-packages (from requests->fsspec[http]<2026.0,>=2022.5.0->lightning) (2020.6.20)\n",
            "Requirement already satisfied: mpmath>=0.19 in /usr/local/lib/python3.11/dist-packages (from sympy->torch<4.0,>=2.1.0->lightning) (1.3.0)\n",
            "\u001b[33mWARNING: Running pip as the 'root' user can result in broken permissions and conflicting behaviour with the system package manager. It is recommended to use a virtual environment instead: https://pip.pypa.io/warnings/venv\u001b[0m\u001b[33m\n",
            "\u001b[0mNote: you may need to restart the kernel to use updated packages.\n",
            "Requirement already satisfied: einops in /usr/local/lib/python3.11/dist-packages (0.8.1)\n",
            "\u001b[33mWARNING: Running pip as the 'root' user can result in broken permissions and conflicting behaviour with the system package manager. It is recommended to use a virtual environment instead: https://pip.pypa.io/warnings/venv\u001b[0m\u001b[33m\n",
            "\u001b[0mNote: you may need to restart the kernel to use updated packages.\n",
            "Requirement already satisfied: timm in /usr/local/lib/python3.11/dist-packages (0.9.7)\n",
            "Requirement already satisfied: torch>=1.7 in /usr/local/lib/python3.11/dist-packages (from timm) (2.1.1+cu121)\n",
            "Requirement already satisfied: torchvision in /usr/local/lib/python3.11/dist-packages (from timm) (0.16.1+cu121)\n",
            "Requirement already satisfied: pyyaml in /usr/lib/python3/dist-packages (from timm) (5.4.1)\n",
            "Requirement already satisfied: huggingface-hub in /usr/local/lib/python3.11/dist-packages (from timm) (0.20.3)\n",
            "Requirement already satisfied: safetensors in /usr/local/lib/python3.11/dist-packages (from timm) (0.4.0)\n",
            "Requirement already satisfied: filelock in /usr/local/lib/python3.11/dist-packages (from torch>=1.7->timm) (3.13.1)\n",
            "Requirement already satisfied: typing-extensions in /usr/local/lib/python3.11/dist-packages (from torch>=1.7->timm) (4.9.0)\n",
            "Requirement already satisfied: sympy in /usr/local/lib/python3.11/dist-packages (from torch>=1.7->timm) (1.12)\n",
            "Requirement already satisfied: networkx in /usr/local/lib/python3.11/dist-packages (from torch>=1.7->timm) (3.2.1)\n",
            "Requirement already satisfied: jinja2 in /usr/local/lib/python3.11/dist-packages (from torch>=1.7->timm) (3.1.3)\n",
            "Requirement already satisfied: fsspec in /usr/local/lib/python3.11/dist-packages (from torch>=1.7->timm) (2023.6.0)\n",
            "Requirement already satisfied: triton==2.1.0 in /usr/local/lib/python3.11/dist-packages (from torch>=1.7->timm) (2.1.0)\n",
            "Requirement already satisfied: requests in /usr/local/lib/python3.11/dist-packages (from huggingface-hub->timm) (2.31.0)\n",
            "Requirement already satisfied: tqdm>=4.42.1 in /usr/local/lib/python3.11/dist-packages (from huggingface-hub->timm) (4.66.1)\n",
            "Requirement already satisfied: packaging>=20.9 in /usr/local/lib/python3.11/dist-packages (from huggingface-hub->timm) (23.2)\n",
            "Requirement already satisfied: numpy in /usr/local/lib/python3.11/dist-packages (from torchvision->timm) (1.26.3)\n",
            "Requirement already satisfied: pillow!=8.3.*,>=5.3.0 in /usr/local/lib/python3.11/dist-packages (from torchvision->timm) (9.5.0)\n",
            "Requirement already satisfied: MarkupSafe>=2.0 in /usr/local/lib/python3.11/dist-packages (from jinja2->torch>=1.7->timm) (2.1.4)\n",
            "Requirement already satisfied: charset-normalizer<4,>=2 in /usr/local/lib/python3.11/dist-packages (from requests->huggingface-hub->timm) (3.3.2)\n",
            "Requirement already satisfied: idna<4,>=2.5 in /usr/lib/python3/dist-packages (from requests->huggingface-hub->timm) (3.3)\n",
            "Requirement already satisfied: urllib3<3,>=1.21.1 in /usr/local/lib/python3.11/dist-packages (from requests->huggingface-hub->timm) (2.0.7)\n",
            "Requirement already satisfied: certifi>=2017.4.17 in /usr/lib/python3/dist-packages (from requests->huggingface-hub->timm) (2020.6.20)\n",
            "Requirement already satisfied: mpmath>=0.19 in /usr/local/lib/python3.11/dist-packages (from sympy->torch>=1.7->timm) (1.3.0)\n",
            "\u001b[33mWARNING: Running pip as the 'root' user can result in broken permissions and conflicting behaviour with the system package manager. It is recommended to use a virtual environment instead: https://pip.pypa.io/warnings/venv\u001b[0m\u001b[33m\n",
            "\u001b[0mNote: you may need to restart the kernel to use updated packages.\n",
            "Requirement already satisfied: dotenv in /usr/local/lib/python3.11/dist-packages (0.9.9)\n",
            "Requirement already satisfied: python-dotenv in /usr/local/lib/python3.11/dist-packages (from dotenv) (1.1.0)\n",
            "\u001b[33mWARNING: Running pip as the 'root' user can result in broken permissions and conflicting behaviour with the system package manager. It is recommended to use a virtual environment instead: https://pip.pypa.io/warnings/venv\u001b[0m\u001b[33m\n",
            "\u001b[0mNote: you may need to restart the kernel to use updated packages.\n"
          ]
        }
      ],
      "source": [
        "%pip install pytorch-lightning\n",
        "%pip install torch torchvision\n",
        "%pip install lightning\n",
        "%pip install einops\n",
        "%pip install timm\n",
        "%pip install dotenv"
      ]
    },
    {
      "cell_type": "code",
      "execution_count": 2,
      "metadata": {
        "id": "Dq96M21xes3O"
      },
      "outputs": [],
      "source": [
        "import os\n",
        "import matplotlib.pyplot as plt\n",
        "import numpy as np\n",
        "from dotenv import load_dotenv\n",
        "import torch\n",
        "from einops import rearrange\n",
        "import torch.nn as nn\n",
        "from timm.models.layers import DropPath, trunc_normal_\n",
        "\n",
        "IS_PAPERSPACE = os.getcwd().startswith('/notebooks')\n",
        "dir_env = os.path.join(os.getcwd(), '.env') if IS_PAPERSPACE else os.path.join(os.getcwd(), '..', '.env')\n",
        "_ = load_dotenv(dotenv_path=dir_env)"
      ]
    },
    {
      "cell_type": "markdown",
      "metadata": {
        "id": "cjIjjCP2es3Q"
      },
      "source": [
        "# Modell"
      ]
    },
    {
      "cell_type": "code",
      "execution_count": 3,
      "metadata": {
        "id": "s7wK3pcies3Q"
      },
      "outputs": [],
      "source": [
        "class ConvEmbedding(nn.Module):\n",
        "    def __init__(self, in_channels, out_channels, kernel_size, stride):\n",
        "        super().__init__()\n",
        "        self.proj = nn.Conv2d(in_channels, out_channels, kernel_size=kernel_size, stride=stride, padding=kernel_size // 2)\n",
        "        self.norm = nn.LayerNorm(out_channels)\n",
        "\n",
        "    def forward(self, x):\n",
        "        # print('ConvEmbed.forward.0', x.shape)\n",
        "        x = self.proj(x)\n",
        "        # print('ConvEmbed.forward.1', x.shape)\n",
        "        _, _, H, W = x.shape\n",
        "        x = rearrange(x, 'b c h w -> b (h w) c')\n",
        "        # print('ConvEmbed.forward.2', x.shape)\n",
        "        x = self.norm(x)\n",
        "        # print('ConvEmbed.forward.3', x.shape)\n",
        "        return x, H, W\n",
        "\n",
        "class ConvProjection(nn.Module):\n",
        "    def __init__(self, dim, kernel_size, stride=1):\n",
        "        super().__init__()\n",
        "        self.depthwise_conv = nn.Conv2d(dim, dim, kernel_size=kernel_size, stride=stride, padding=kernel_size // 2, groups=dim)\n",
        "        self.bn = nn.BatchNorm2d(dim)\n",
        "        self.pointwise_conv = nn.Conv2d(dim, dim, kernel_size=1)\n",
        "\n",
        "    def forward(self, x, H, W):\n",
        "        # print('DepthwiseConvProjection.forward.0', x.shape)\n",
        "        x = rearrange(x, 'b (h w) c -> b c h w', h=H, w=W)\n",
        "        # print('DepthwiseConvProjection.forward.1', x.shape)\n",
        "        x = self.depthwise_conv(x)\n",
        "        x = self.bn(x)\n",
        "        x = self.pointwise_conv(x)\n",
        "        # print('DepthwiseConvProjection.forward.2', x.shape)\n",
        "        x = rearrange(x, 'b c h w -> b (h w) c')\n",
        "        # print('DepthwiseConvProjection.forward.3', x.shape)\n",
        "        return x\n",
        "\n",
        "class TransformerBlock(nn.Module):\n",
        "    def __init__(self, dim, num_heads=1, mlp_ratio=4.0, kernel_size=3):\n",
        "        super().__init__()\n",
        "        self.num_heads = num_heads\n",
        "        self.head_dim = dim // num_heads\n",
        "        self.scale = self.head_dim ** -0.5\n",
        "        self.mlp_ratio = mlp_ratio\n",
        "\n",
        "        self.norm1 = nn.LayerNorm(dim)\n",
        "        self.proj_q_conv = ConvProjection(dim, kernel_size)\n",
        "        self.proj_k_conv = ConvProjection(dim, kernel_size)\n",
        "        self.proj_v_conv = ConvProjection(dim, kernel_size)\n",
        "\n",
        "        self.proj_q = nn.Linear(dim, dim, bias=False)\n",
        "        self.proj_k = nn.Linear(dim, dim, bias=False)\n",
        "        self.proj_v = nn.Linear(dim, dim, bias=False)\n",
        "\n",
        "        self.attn_drop = nn.Dropout(0.0)\n",
        "        self.proj = nn.Linear(dim, dim)\n",
        "        self.proj_drop = nn.Dropout(0.0)\n",
        "\n",
        "        self.drop_path = DropPath(0.1)\n",
        "\n",
        "        self.norm2 = nn.LayerNorm(dim)\n",
        "        self.mlp = nn.Sequential(\n",
        "            nn.Linear(dim, int(dim * mlp_ratio)),\n",
        "            nn.GELU(),\n",
        "            nn.Dropout(0.0),\n",
        "            nn.Linear(int(dim * mlp_ratio), dim),\n",
        "            nn.Dropout(0.0)\n",
        "        )\n",
        "\n",
        "    def forward(self, x, H, W):\n",
        "        residual = x\n",
        "        x_norm = self.norm1(x)\n",
        "\n",
        "        q = self.proj_q_conv(x_norm, H, W)\n",
        "        k = self.proj_k_conv(x_norm, H, W)\n",
        "        v = self.proj_v_conv(x_norm, H, W)\n",
        "\n",
        "        q = rearrange(self.proj_q(q), 'b t (h d) -> b h t d', h=self.num_heads)\n",
        "        k = rearrange(self.proj_k(k), 'b t (h d) -> b h t d', h=self.num_heads)\n",
        "        v = rearrange(self.proj_v(v), 'b t (h d) -> b h t d', h=self.num_heads)\n",
        "\n",
        "        attn_score = torch.einsum('bhlk,bhtk->bhlt', [q, k]) * self.scale\n",
        "        attn = nn.functional.softmax(attn_score, dim=-1)\n",
        "        attn = self.attn_drop(attn)\n",
        "\n",
        "        x = torch.einsum('bhlt,bhtv->bhlv', [attn, v])\n",
        "        x = rearrange(x, 'b h t d -> b t (h d)')\n",
        "\n",
        "        x = self.proj(x)\n",
        "        x = self.proj_drop(x)\n",
        "        x = residual + self.drop_path(x)\n",
        "\n",
        "        residual2 = x\n",
        "        x = self.norm2(x)\n",
        "        x = self.mlp(x)\n",
        "        x = residual2 + self.drop_path(x)\n",
        "        return x\n",
        "\n",
        "class CvTStage(nn.Module):\n",
        "    def __init__(self, in_ch, out_ch, kernel_size, stride, depth, num_heads):\n",
        "        super().__init__()\n",
        "        self.embed = ConvEmbedding(in_ch, out_ch, kernel_size, stride)\n",
        "        self.dropout = nn.Dropout(0.0)\n",
        "        self.blocks = nn.ModuleList([\n",
        "            TransformerBlock(out_ch, num_heads) for _ in range(depth)\n",
        "        ])\n",
        "\n",
        "    def forward(self, x):\n",
        "        x, H, W = self.embed(x)\n",
        "        x = self.dropout(x)\n",
        "        for blk in self.blocks:\n",
        "            x = blk(x, H, W)\n",
        "        return x, H, W\n",
        "\n",
        "\n",
        "class CvTOriginal(nn.Module):\n",
        "    def __init__(self, num_classes=200):\n",
        "        super().__init__()\n",
        "        self.num_classes = num_classes\n",
        "        self.stage1 = CvTStage(3, 64, kernel_size=5, stride=2, depth=1, num_heads=1)\n",
        "        self.stage2 = CvTStage(64, 192, kernel_size=3, stride=2, depth=2, num_heads=3)\n",
        "        self.stage3 = CvTStage(192, 384, kernel_size=3, stride=1, depth=10, num_heads=6)\n",
        "\n",
        "        self.norm = nn.LayerNorm(384)\n",
        "        self.head = nn.Linear(384, num_classes) \n",
        "\n",
        "\n",
        "    def forward(self, x):\n",
        "        x1, H1, W1 = self.stage1(x)\n",
        "        x1_spatial = rearrange(x1, 'b (h w) c -> b c h w', h=H1, w=W1)\n",
        "\n",
        "        x2, H2, W2 = self.stage2(x1_spatial)\n",
        "        x2_spatial = rearrange(x2, 'b (h w) c -> b c h w', h=H2, w=W2)\n",
        "\n",
        "        x3, _, _ = self.stage3(x2_spatial)\n",
        "\n",
        "        x = self.norm(x3)\n",
        "        x = x.mean(dim=1)\n",
        "        return self.head(x)"
      ]
    },
    {
      "cell_type": "markdown",
      "metadata": {
        "id": "szfPHjFFes3Q"
      },
      "source": [
        "## Testing"
      ]
    },
    {
      "cell_type": "code",
      "execution_count": 4,
      "metadata": {
        "id": "Dy847tS2es3Q"
      },
      "outputs": [
        {
          "name": "stdout",
          "output_type": "stream",
          "text": [
            "Model output shape is as expected: torch.Size([8, 200])\n",
            "Model output shape is as expected: torch.Size([1, 200])\n"
          ]
        }
      ],
      "source": [
        "model = CvTOriginal()\n",
        "\n",
        "dummy_input = torch.randn(8, 3, 64, 64)\n",
        "output = model(dummy_input)\n",
        "\n",
        "assert output.shape == (8, 200), f\"Expected output shape (8, 200), but got {output.shape}\"\n",
        "print(\"Model output shape is as expected:\", output.shape)\n",
        "\n",
        "dummy_input = torch.randn(1, 3, 64, 64)\n",
        "output = model(dummy_input)\n",
        "\n",
        "assert output.shape == (1, 200), f\"Expected output shape (1, 200), but got {output.shape}\"\n",
        "print(\"Model output shape is as expected:\", output.shape)\n"
      ]
    },
    {
      "cell_type": "markdown",
      "metadata": {
        "id": "sa41nXqUes3Q"
      },
      "source": [
        "# Dataset"
      ]
    },
    {
      "cell_type": "code",
      "execution_count": 5,
      "metadata": {
        "id": "hUFVhRXUes3R"
      },
      "outputs": [
        {
          "name": "stdout",
          "output_type": "stream",
          "text": [
            "Data already extracted.\n"
          ]
        }
      ],
      "source": [
        "from models.processData import prepare_data_and_get_loaders\n",
        "\n",
        "train_loader, val_loader, test_loader = prepare_data_and_get_loaders(\"/datasets/tiny-imagenet-200/tiny-imagenet-200.zip\", \"data/tiny-imagenet-200\")"
      ]
    },
    {
      "cell_type": "markdown",
      "metadata": {
        "id": "e1d7soVVes3S"
      },
      "source": [
        "### Testing"
      ]
    },
    {
      "cell_type": "code",
      "execution_count": 6,
      "metadata": {
        "id": "_D5wTcwres3S"
      },
      "outputs": [
        {
          "name": "stderr",
          "output_type": "stream",
          "text": [
            "Clipping input data to the valid range for imshow with RGB data ([0..1] for floats or [0..255] for integers).\n"
          ]
        },
        {
          "data": {
            "image/png": "[encoded data removed]",
            "text/plain": [
              "<Figure size 640x480 with 1 Axes>"
            ]
          },
          "metadata": {},
          "output_type": "display_data"
        }
      ],
      "source": [
        "def imshow(img):\n",
        "    img = img / 2 + 0.5\n",
        "    npimg = img.numpy()\n",
        "    plt.imshow(np.transpose(npimg, (1, 2, 0)))\n",
        "    plt.axis('off')\n",
        "    plt.show()\n",
        "\n",
        "image, label = train_loader.dataset[0]\n",
        "imshow(image)"
      ]
    },
    {
      "cell_type": "markdown",
      "metadata": {
        "id": "0ssdD8E3es3U"
      },
      "source": [
        "# Training"
      ]
    },
    {
      "cell_type": "code",
      "execution_count": null,
      "metadata": {
        "id": "4gfnKuY4es3U"
      },
      "outputs": [
        {
          "name": "stderr",
          "output_type": "stream",
          "text": [
            "\u001b[34m\u001b[1mwandb\u001b[0m: Currently logged in as: \u001b[33mseya-schmassmann-fhnw\u001b[0m. Use \u001b[1m`wandb login --relogin`\u001b[0m to force relogin\n",
            "\u001b[34m\u001b[1mwandb\u001b[0m: \u001b[33mWARNING\u001b[0m If you're specifying your api key in code, ensure this code is not shared publicly.\n",
            "\u001b[34m\u001b[1mwandb\u001b[0m: \u001b[33mWARNING\u001b[0m Consider setting the WANDB_API_KEY environment variable, or running `wandb login` from the command line.\n",
            "\u001b[34m\u001b[1mwandb\u001b[0m: Appending key for api.wandb.ai to your netrc file: /root/.netrc\n",
            "\u001b[34m\u001b[1mwandb\u001b[0m: Currently logged in as: \u001b[33mseya-schmassmann-fhnw\u001b[0m (\u001b[33mwods\u001b[0m). Use \u001b[1m`wandb login --relogin`\u001b[0m to force relogin\n"
          ]
        },
        {
          "data": {
            "text/html": [
              "wandb version 0.19.11 is available!  To upgrade, please run:\n",
              " $ pip install wandb --upgrade"
            ],
            "text/plain": [
              "<IPython.core.display.HTML object>"
            ]
          },
          "metadata": {},
          "output_type": "display_data"
        },
        {
          "data": {
            "text/html": [
              "Tracking run with wandb version 0.15.10"
            ],
            "text/plain": [
              "<IPython.core.display.HTML object>"
            ]
          },
          "metadata": {},
          "output_type": "display_data"
        },
        {
          "data": {
            "text/html": [
              "Run data is saved locally in <code>./wandb/run-20250525_184032-yzkv8l5r</code>"
            ],
            "text/plain": [
              "<IPython.core.display.HTML object>"
            ]
          },
          "metadata": {},
          "output_type": "display_data"
        },
        {
          "data": {
            "text/html": [
              "Syncing run <strong><a href='https://wandb.ai/wods/wods/runs/yzkv8l5r' target=\"_blank\">zesty-pond-80</a></strong> to <a href='https://wandb.ai/wods/wods' target=\"_blank\">Weights & Biases</a> (<a href='https://wandb.me/run' target=\"_blank\">docs</a>)<br/>"
            ],
            "text/plain": [
              "<IPython.core.display.HTML object>"
            ]
          },
          "metadata": {},
          "output_type": "display_data"
        },
        {
          "data": {
            "text/html": [
              " View project at <a href='https://wandb.ai/wods/wods' target=\"_blank\">https://wandb.ai/wods/wods</a>"
            ],
            "text/plain": [
              "<IPython.core.display.HTML object>"
            ]
          },
          "metadata": {},
          "output_type": "display_data"
        },
        {
          "data": {
            "text/html": [
              " View run at <a href='https://wandb.ai/wods/wods/runs/yzkv8l5r' target=\"_blank\">https://wandb.ai/wods/wods/runs/yzkv8l5r</a>"
            ],
            "text/plain": [
              "<IPython.core.display.HTML object>"
            ]
          },
          "metadata": {},
          "output_type": "display_data"
        },
        {
          "name": "stderr",
          "output_type": "stream",
          "text": [
            "Using default `ModelCheckpoint`. Consider installing `litmodels` package to enable `LitModelCheckpoint` for automatic upload to the Lightning model registry.\n",
            "GPU available: True (cuda), used: True\n",
            "TPU available: False, using: 0 TPU cores\n",
            "HPU available: False, using: 0 HPUs\n",
            "You are using a CUDA device ('NVIDIA RTX A6000') that has Tensor Cores. To properly utilize them, you should set `torch.set_float32_matmul_precision('medium' | 'high')` which will trade-off precision for performance. For more details, read https://pytorch.org/docs/stable/generated/torch.set_float32_matmul_precision.html#torch.set_float32_matmul_precision\n",
            "LOCAL_RANK: 0 - CUDA_VISIBLE_DEVICES: [0]\n",
            "\n",
            "  | Name      | Type               | Params | Mode \n",
            "---------------------------------------------------------\n",
            "0 | model     | CvTOriginal        | 28.8 M | train\n",
            "1 | criterion | CrossEntropyLoss   | 0      | train\n",
            "2 | train_acc | MulticlassAccuracy | 0      | train\n",
            "3 | train_f1  | MulticlassF1Score  | 0      | train\n",
            "4 | val_acc   | MulticlassAccuracy | 0      | train\n",
            "5 | val_f1    | MulticlassF1Score  | 0      | train\n",
            "6 | test_acc  | MulticlassAccuracy | 0      | train\n",
            "7 | test_f1   | MulticlassF1Score  | 0      | train\n",
            "---------------------------------------------------------\n",
            "28.8 M    Trainable params\n",
            "0         Non-trainable params\n",
            "28.8 M    Total params\n",
            "115.263   Total estimated model params size (MB)\n",
            "448       Modules in train mode\n",
            "0         Modules in eval mode\n"
          ]
        },
        {
          "data": {
            "application/vnd.jupyter.widget-view+json": {
              "model_id": "96fc5b2ae3524b50bbcb02d52d0b613a",
              "version_major": 2,
              "version_minor": 0
            },
            "text/plain": [
              "Sanity Checking: |          | 0/? [00:00<?, ?it/s]"
            ]
          },
          "metadata": {},
          "output_type": "display_data"
        },
        {
          "name": "stderr",
          "output_type": "stream",
          "text": [
            "/usr/local/lib/python3.11/dist-packages/torchmetrics/utilities/prints.py:43: UserWarning: The ``compute`` method of metric MulticlassAccuracy was called before the ``update`` method which may lead to errors, as metric states have not yet been updated.\n",
            "  warnings.warn(*args, **kwargs)\n",
            "/usr/local/lib/python3.11/dist-packages/torchmetrics/utilities/prints.py:43: UserWarning: The ``compute`` method of metric MulticlassF1Score was called before the ``update`` method which may lead to errors, as metric states have not yet been updated.\n",
            "  warnings.warn(*args, **kwargs)\n"
          ]
        },
        {
          "data": {
            "application/vnd.jupyter.widget-view+json": {
              "model_id": "9f509db5e4704b4b98fd61f6dc62365a",
              "version_major": 2,
              "version_minor": 0
            },
            "text/plain": [
              "Training: |          | 0/? [00:00<?, ?it/s]"
            ]
          },
          "metadata": {},
          "output_type": "display_data"
        },
        {
          "data": {
            "application/vnd.jupyter.widget-view+json": {
              "model_id": "fd5f72a170904fa59672d4315acd71ed",
              "version_major": 2,
              "version_minor": 0
            },
            "text/plain": [
              "Validation: |          | 0/? [00:00<?, ?it/s]"
            ]
          },
          "metadata": {},
          "output_type": "display_data"
        },
        {
          "data": {
            "application/vnd.jupyter.widget-view+json": {
              "model_id": "fcfd71d24c7e4fbc93a0face7ccddabb",
              "version_major": 2,
              "version_minor": 0
            },
            "text/plain": [
              "Validation: |          | 0/? [00:00<?, ?it/s]"
            ]
          },
          "metadata": {},
          "output_type": "display_data"
        },
        {
          "data": {
            "application/vnd.jupyter.widget-view+json": {
              "model_id": "25fbdf42bcd04c1283d9c207b4dcfeb6",
              "version_major": 2,
              "version_minor": 0
            },
            "text/plain": [
              "Validation: |          | 0/? [00:00<?, ?it/s]"
            ]
          },
          "metadata": {},
          "output_type": "display_data"
        },
        {
          "data": {
            "application/vnd.jupyter.widget-view+json": {
              "model_id": "f71265a801124ba3896287ea703c0bfe",
              "version_major": 2,
              "version_minor": 0
            },
            "text/plain": [
              "Validation: |          | 0/? [00:00<?, ?it/s]"
            ]
          },
          "metadata": {},
          "output_type": "display_data"
        },
        {
          "data": {
            "application/vnd.jupyter.widget-view+json": {
              "model_id": "26f9f462f2eb4557a32b42488a50eb54",
              "version_major": 2,
              "version_minor": 0
            },
            "text/plain": [
              "Validation: |          | 0/? [00:00<?, ?it/s]"
            ]
          },
          "metadata": {},
          "output_type": "display_data"
        },
        {
          "data": {
            "application/vnd.jupyter.widget-view+json": {
              "model_id": "2396067e39494ff0b1b85be991572a14",
              "version_major": 2,
              "version_minor": 0
            },
            "text/plain": [
              "Validation: |          | 0/? [00:00<?, ?it/s]"
            ]
          },
          "metadata": {},
          "output_type": "display_data"
        },
        {
          "data": {
            "application/vnd.jupyter.widget-view+json": {
              "model_id": "05307c64906b47a3b34e2d940c8f99ef",
              "version_major": 2,
              "version_minor": 0
            },
            "text/plain": [
              "Validation: |          | 0/? [00:00<?, ?it/s]"
            ]
          },
          "metadata": {},
          "output_type": "display_data"
        },
        {
          "data": {
            "application/vnd.jupyter.widget-view+json": {
              "model_id": "0de974b187c64b6ab89eba7019d5556e",
              "version_major": 2,
              "version_minor": 0
            },
            "text/plain": [
              "Validation: |          | 0/? [00:00<?, ?it/s]"
            ]
          },
          "metadata": {},
          "output_type": "display_data"
        },
        {
          "data": {
            "application/vnd.jupyter.widget-view+json": {
              "model_id": "9a60877b51c041b8a8085fc3ea7ba51d",
              "version_major": 2,
              "version_minor": 0
            },
            "text/plain": [
              "Validation: |          | 0/? [00:00<?, ?it/s]"
            ]
          },
          "metadata": {},
          "output_type": "display_data"
        },
        {
          "data": {
            "application/vnd.jupyter.widget-view+json": {
              "model_id": "04ef17905a3b4743baf12e59acd2d70a",
              "version_major": 2,
              "version_minor": 0
            },
            "text/plain": [
              "Validation: |          | 0/? [00:00<?, ?it/s]"
            ]
          },
          "metadata": {},
          "output_type": "display_data"
        },
        {
          "data": {
            "application/vnd.jupyter.widget-view+json": {
              "model_id": "212ca9665b3d49019beb7e49f7063f9b",
              "version_major": 2,
              "version_minor": 0
            },
            "text/plain": [
              "Validation: |          | 0/? [00:00<?, ?it/s]"
            ]
          },
          "metadata": {},
          "output_type": "display_data"
        },
        {
          "data": {
            "application/vnd.jupyter.widget-view+json": {
              "model_id": "a4059cf3621a4c6eaeb26ce0757dfe80",
              "version_major": 2,
              "version_minor": 0
            },
            "text/plain": [
              "Validation: |          | 0/? [00:00<?, ?it/s]"
            ]
          },
          "metadata": {},
          "output_type": "display_data"
        },
        {
          "data": {
            "application/vnd.jupyter.widget-view+json": {
              "model_id": "23255fc4565e4a9397b9e53b3698ba7b",
              "version_major": 2,
              "version_minor": 0
            },
            "text/plain": [
              "Validation: |          | 0/? [00:00<?, ?it/s]"
            ]
          },
          "metadata": {},
          "output_type": "display_data"
        },
        {
          "data": {
            "application/vnd.jupyter.widget-view+json": {
              "model_id": "e9663708679b4b68be142b77f1c0d28d",
              "version_major": 2,
              "version_minor": 0
            },
            "text/plain": [
              "Validation: |          | 0/? [00:00<?, ?it/s]"
            ]
          },
          "metadata": {},
          "output_type": "display_data"
        }
      ],
      "source": [
        "from models.trainModel import train_test_model\n",
        "\n",
        "train_test_model(CvTOriginal, train_loader, val_loader, test_loader)"
      ]
    }
  ],
  "metadata": {
    "colab": {
      "provenance": []
    },
    "kernelspec": {
      "display_name": "Python 3 (ipykernel)",
      "language": "python",
      "name": "python3"
    }
  },
  "nbformat": 4,
  "nbformat_minor": 0
}
