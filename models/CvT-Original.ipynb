{
  "cells": [
    {
      "cell_type": "markdown",
      "metadata": {
        "id": "gPI9Fj_Pes3L"
      },
      "source": [
        "# Original CvT-Model\n",
        "\n",
        "<img src=\"./../CvT-Original.drawio.png?raw=1\" alt=\"CvT-Modell mit Convolutional Embedding\" title=\"CvT-Modell mit Convolutional Embedding\" height=\"400\" />\n",
        "\n",
        "Dimensions sind ohne Batch-Size.\n",
        "\n",
        "## Input-Dimensions\n",
        "\n",
        "**Dimensions:** $H_0 = 64px, \\quad W_0 = 64px, \\quad C_0 = 3$ \\\n",
        "**Output-Shape:** `(3, 64, 64)`\n",
        "\n",
        "## Conv2d\n",
        "\n",
        "Berechnung Output-Dimensions:\n",
        "\n",
        "$ \\text{kernel size}\\ k = 7, \\quad \\text{stride}\\ s = 4, \\quad \\text{padding}\\ p = 3 $ \\\n",
        "$ H_i = \\frac{H_{i-1} + 2p - k}{s}\\ + 1, \\quad W_i = \\frac{W_{i-1} + 2p - k}{s}\\ + 1 $\n",
        "\n",
        "**Output-Dimensions:** $H_1 = 16px, \\quad W_1 = 16px, \\quad C_1 = 64$ \\\n",
        "**Output-Shape:** `(64, 16, 16)`\n",
        "\n",
        "## Flatten\n",
        "\n",
        "**Output-Dimensions:** $H_1 W_1 \\times C_1 = 16*16 \\times 64$ \\\n",
        "**Output-Shape:** `(256, 64)`\n",
        "\n",
        "## Conv Projection\n",
        "\n",
        "\n",
        "\n",
        "## Multi-Head Attention\n",
        "\n",
        "Berechnung der Query-, Key- und Value-Matrizen:\n",
        "\n",
        "$X \\in \\mathbb{R}^{H_1 W_1 \\times C_1}$ \\\n",
        "$d_k$ ist die Dimension der Value-, Query- und Key-Vektoren \\\n",
        "$W^Q, W^K, W^V \\in \\mathbb{R}^{C_1 \\times d_k}$ \\\n",
        "$Q = XW^Q, \\quad K = XW^K, \\quad V = XW^V$\n",
        "\n",
        "$d_k = 64$ \\\n",
        "$Q, K, V \\in \\mathbb{R}^{256 \\times 64}$\n",
        "\n",
        "**Output-Dimensions:** $256 \\times 64$ \\\n",
        "**Output-Shape:** `(256, 64)`\n",
        "\n",
        "## MLP\n",
        "\n",
        "Expansion factor: $e = 4$\n",
        "\n",
        "1. **Step:** Linear ➔ GELU ➔ Dropout\n",
        "   \n",
        "   **Output-Dimensions:** $256 \\times 64 \\times 4 = 256 \\times 256$ \\\n",
        "   **Output-Shape:** `(256, 256)`\n",
        "\n",
        "2. **Step:** Linear ➔ Dropout\n",
        "\n",
        "    **Output-Dimensions:** $256 \\times 256 \\times 64 = 256 \\times 64$ \\\n",
        "    **Output-Shape:** `(256, 64)`\n"
      ]
    },
    {
      "cell_type": "markdown",
      "metadata": {
        "id": "6ul2uMlQes3O"
      },
      "source": [
        "# Imports"
      ]
    },
    {
      "cell_type": "code",
      "execution_count": null,
      "metadata": {
        "id": "nIi1ayzAfHT0"
      },
      "outputs": [],
      "source": [
        "%pip install pytorch-lightning\n",
        "%pip install torch torchvision\n",
        "%pip install lightning\n",
        "%pip install einops\n",
        "%pip install timm\n",
        "%pip install dotenv"
      ]
    },
    {
      "cell_type": "code",
      "execution_count": null,
      "metadata": {
        "id": "Dq96M21xes3O"
      },
      "outputs": [],
      "source": [
        "import os\n",
        "import matplotlib.pyplot as plt\n",
        "import numpy as np\n",
        "from dotenv import load_dotenv\n",
        "import torch\n",
        "from einops import rearrange\n",
        "import torch.nn as nn\n",
        "from timm.models.layers import DropPath, trunc_normal_\n",
        "\n",
        "IS_PAPERSPACE = os.getcwd().startswith('/notebooks')\n",
        "dir_env = os.path.join(os.getcwd(), '.env') if IS_PAPERSPACE else os.path.join(os.getcwd(), '..', '.env')\n",
        "_ = load_dotenv(dotenv_path=dir_env)"
      ]
    },
    {
      "cell_type": "markdown",
      "metadata": {
        "id": "cjIjjCP2es3Q"
      },
      "source": [
        "# Modell"
      ]
    },
    {
      "cell_type": "code",
      "execution_count": null,
      "metadata": {
        "id": "s7wK3pcies3Q"
      },
      "outputs": [],
      "source": [
        "class ConvEmbedding(nn.Module):\n",
        "    def __init__(self, in_channels, out_channels, kernel_size, stride):\n",
        "        super().__init__()\n",
        "        self.proj = nn.Conv2d(in_channels, out_channels, kernel_size=kernel_size, stride=stride, padding=kernel_size // 2)\n",
        "        self.norm = nn.LayerNorm(out_channels)\n",
        "\n",
        "    def forward(self, x):\n",
        "        # print('ConvEmbed.forward.0', x.shape)\n",
        "        x = self.proj(x)\n",
        "        # print('ConvEmbed.forward.1', x.shape)\n",
        "        _, _, H, W = x.shape\n",
        "        x = rearrange(x, 'b c h w -> b (h w) c')\n",
        "        # print('ConvEmbed.forward.2', x.shape)\n",
        "        x = self.norm(x)\n",
        "        # print('ConvEmbed.forward.3', x.shape)\n",
        "        return x, H, W\n",
        "\n",
        "class ConvProjection(nn.Module):\n",
        "    def __init__(self, dim, kernel_size, stride=1):\n",
        "        super().__init__()\n",
        "        self.depthwise_conv = nn.Conv2d(dim, dim, kernel_size=kernel_size, stride=stride, padding=kernel_size // 2, groups=dim)\n",
        "        self.bn = nn.BatchNorm2d(dim)\n",
        "        self.pointwise_conv = nn.Conv2d(dim, dim, kernel_size=1)\n",
        "\n",
        "    def forward(self, x, H, W):\n",
        "        # print('DepthwiseConvProjection.forward.0', x.shape)\n",
        "        x = rearrange(x, 'b (h w) c -> b c h w', h=H, w=W)\n",
        "        # print('DepthwiseConvProjection.forward.1', x.shape)\n",
        "        x = self.depthwise_conv(x)\n",
        "        x = self.bn(x) # toggled\n",
        "        # x = self.pointwise_conv(x)\n",
        "        # print('DepthwiseConvProjection.forward.2', x.shape)\n",
        "        x = rearrange(x, 'b c h w -> b (h w) c')\n",
        "        # print('DepthwiseConvProjection.forward.3', x.shape)\n",
        "        return x\n",
        "\n",
        "class TransformerBlock(nn.Module):\n",
        "    def __init__(self, dim, num_heads=1, mlp_ratio=4.0, kernel_size=3):\n",
        "        super().__init__()\n",
        "        self.num_heads = num_heads\n",
        "        self.head_dim = dim // num_heads\n",
        "        self.scale = self.head_dim ** -0.5\n",
        "        self.mlp_ratio = mlp_ratio\n",
        "\n",
        "        self.norm1 = nn.LayerNorm(dim)\n",
        "        self.proj_q_conv = ConvProjection(dim, kernel_size)\n",
        "        self.proj_k_conv = ConvProjection(dim, kernel_size)\n",
        "        self.proj_v_conv = ConvProjection(dim, kernel_size)\n",
        "        # toggled\n",
        "        self.proj_q = nn.Linear(dim, dim, bias=False)\n",
        "        self.proj_k = nn.Linear(dim, dim, bias=False)\n",
        "        self.proj_v = nn.Linear(dim, dim, bias=False)\n",
        "\n",
        "        self.attn_drop = nn.Dropout(0.0)\n",
        "        self.proj = nn.Linear(dim, dim)\n",
        "        self.proj_drop = nn.Dropout(0.0)\n",
        "        # toggled\n",
        "\n",
        "        # self.attn = nn.MultiheadAttention(embed_dim=dim, num_heads=heads, batch_first=True) # toggled\n",
        "        self.drop_path = DropPath(0.1)\n",
        "\n",
        "        self.norm2 = nn.LayerNorm(dim)\n",
        "        self.mlp = nn.Sequential(\n",
        "            nn.Linear(dim, int(dim * mlp_ratio)),\n",
        "            nn.GELU(),\n",
        "            nn.Dropout(0.0),\n",
        "            nn.Linear(int(dim * mlp_ratio), dim),\n",
        "            nn.Dropout(0.0)\n",
        "        )\n",
        "\n",
        "    def forward(self, x, H, W):\n",
        "        residual = x\n",
        "        x_norm = self.norm1(x)\n",
        "\n",
        "        q = self.proj_q_conv(x_norm, H, W)\n",
        "        k = self.proj_k_conv(x_norm, H, W)\n",
        "        v = self.proj_v_conv(x_norm, H, W)\n",
        "\n",
        "        q = rearrange(self.proj_q(q), 'b t (h d) -> b h t d', h=self.num_heads)\n",
        "        k = rearrange(self.proj_k(k), 'b t (h d) -> b h t d', h=self.num_heads)\n",
        "        v = rearrange(self.proj_v(v), 'b t (h d) -> b h t d', h=self.num_heads)\n",
        "\n",
        "        attn_score = torch.einsum('bhlk,bhtk->bhlt', [q, k]) * self.scale\n",
        "        attn = nn.functional.softmax(attn_score, dim=-1)\n",
        "        attn = self.attn_drop(attn)\n",
        "\n",
        "        x = torch.einsum('bhlt,bhtv->bhlv', [attn, v])\n",
        "        x = rearrange(x, 'b h t d -> b t (h d)')\n",
        "\n",
        "        x = self.proj(x)\n",
        "        x = self.proj_drop(x)\n",
        "        x = residual + self.drop_path(x)\n",
        "\n",
        "        # MultiheadAttention expects (B, N, C)\n",
        "        # attn_out, _ = self.attn(q, k, v)\n",
        "        # x = residual + attn_out\n",
        "\n",
        "        # FFN\n",
        "        residual2 = x\n",
        "        x = self.norm2(x)\n",
        "        x = self.mlp(x)\n",
        "        x = residual2 + self.drop_path(x)\n",
        "        return x\n",
        "\n",
        "class CvTStage(nn.Module):\n",
        "    def __init__(self, in_ch, out_ch, kernel_size, stride, depth, num_heads):\n",
        "        super().__init__()\n",
        "        self.embed = ConvEmbedding(in_ch, out_ch, kernel_size, stride)\n",
        "        self.dropout = nn.Dropout(0.0)\n",
        "        self.blocks = nn.ModuleList([\n",
        "            TransformerBlock(out_ch, num_heads) for _ in range(depth)\n",
        "        ])\n",
        "\n",
        "    def forward(self, x):\n",
        "        x, H, W = self.embed(x)\n",
        "        x = self.dropout(x)\n",
        "        for blk in self.blocks:\n",
        "            x = blk(x, H, W)\n",
        "        return x, H, W\n",
        "\n",
        "\n",
        "class CvTOriginal(nn.Module):\n",
        "    def __init__(self, num_classes=200):\n",
        "        super().__init__()\n",
        "        self.num_classes = num_classes\n",
        "        self.stage1 = CvTStage(3, 64, kernel_size=5, stride=2, depth=1, num_heads=1)\n",
        "        self.stage2 = CvTStage(64, 192, kernel_size=3, stride=2, depth=2, num_heads=3)\n",
        "        self.stage3 = CvTStage(192, 384, kernel_size=3, stride=1, depth=10, num_heads=6)\n",
        "\n",
        "        self.norm = nn.LayerNorm(384)\n",
        "        self.head = nn.Linear(384, num_classes) \n",
        "\n",
        "\n",
        "    def forward(self, x):\n",
        "        x1, H1, W1 = self.stage1(x)\n",
        "        x1_spatial = rearrange(x1, 'b (h w) c -> b c h w', h=H1, w=W1)\n",
        "\n",
        "        x2, H2, W2 = self.stage2(x1_spatial)\n",
        "        x2_spatial = rearrange(x2, 'b (h w) c -> b c h w', h=H2, w=W2)\n",
        "\n",
        "        x3, _, _ = self.stage3(x2_spatial)\n",
        "\n",
        "        x = self.norm(x3)\n",
        "        x = x.mean(dim=1)\n",
        "        return self.head(x)"
      ]
    },
    {
      "cell_type": "markdown",
      "metadata": {
        "id": "szfPHjFFes3Q"
      },
      "source": [
        "## Testing"
      ]
    },
    {
      "cell_type": "code",
      "execution_count": null,
      "metadata": {
        "id": "Dy847tS2es3Q"
      },
      "outputs": [],
      "source": [
        "model = CvTOriginal()\n",
        "\n",
        "dummy_input = torch.randn(8, 3, 64, 64)\n",
        "output = model(dummy_input)\n",
        "\n",
        "assert output.shape == (8, 200), f\"Expected output shape (8, 200), but got {output.shape}\"\n",
        "print(\"Model output shape is as expected:\", output.shape)\n",
        "\n",
        "dummy_input = torch.randn(1, 3, 64, 64)\n",
        "output = model(dummy_input)\n",
        "\n",
        "assert output.shape == (1, 200), f\"Expected output shape (1, 200), but got {output.shape}\"\n",
        "print(\"Model output shape is as expected:\", output.shape)\n"
      ]
    },
    {
      "cell_type": "markdown",
      "metadata": {
        "id": "sa41nXqUes3Q"
      },
      "source": [
        "# Dataset"
      ]
    },
    {
      "cell_type": "code",
      "execution_count": null,
      "metadata": {
        "id": "hUFVhRXUes3R"
      },
      "outputs": [],
      "source": [
        "from models.processData import prepare_data_and_get_loaders\n",
        "\n",
        "train_loader, val_loader, test_loader = prepare_data_and_get_loaders(\"/datasets/tiny-imagenet-200/tiny-imagenet-200.zip\", \"data/tiny-imagenet-200\")"
      ]
    },
    {
      "cell_type": "markdown",
      "metadata": {
        "id": "e1d7soVVes3S"
      },
      "source": [
        "### Testing"
      ]
    },
    {
      "cell_type": "code",
      "execution_count": null,
      "metadata": {
        "id": "_D5wTcwres3S"
      },
      "outputs": [],
      "source": [
        "def imshow(img):\n",
        "    img = img / 2 + 0.5\n",
        "    npimg = img.numpy()\n",
        "    plt.imshow(np.transpose(npimg, (1, 2, 0)))\n",
        "    plt.axis('off')\n",
        "    plt.show()\n",
        "\n",
        "image, label = train_loader.dataset[0]\n",
        "imshow(image)"
      ]
    },
    {
      "cell_type": "markdown",
      "metadata": {
        "id": "0ssdD8E3es3U"
      },
      "source": [
        "# Training"
      ]
    },
    {
      "cell_type": "code",
      "execution_count": null,
      "metadata": {
        "id": "4gfnKuY4es3U"
      },
      "outputs": [],
      "source": [
        "from models.trainModel import train_test_model\n",
        "\n",
        "train_test_model(model, train_loader, val_loader, test_loader)"
      ]
    }
  ],
  "metadata": {
    "colab": {
      "provenance": []
    },
    "kernelspec": {
      "display_name": "Python 3 (ipykernel)",
      "language": "python",
      "name": "python3"
    },
    "language_info": {
      "codemirror_mode": {
        "name": "ipython",
        "version": 3
      },
      "file_extension": ".py",
      "mimetype": "text/x-python",
      "name": "python",
      "nbconvert_exporter": "python",
      "pygments_lexer": "ipython3",
      "version": "3.11.7"
    }
  },
  "nbformat": 4,
  "nbformat_minor": 0
}
