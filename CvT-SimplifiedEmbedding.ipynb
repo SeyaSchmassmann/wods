{
  "cells": [
    {
      "cell_type": "markdown",
      "metadata": {
        "id": "gPI9Fj_Pes3L"
      },
      "source": [
        "# Convolution Embedding\n",
        "\n",
        "<img src=\"https://github.com/SeyaSchmassmann/wods/blob/main/CvT-SimplifiedEmbedding.drawio.png?raw=1\" alt=\"CvT-Modell mit Convolutional Embedding\" title=\"CvT-Modell mit Convolutional Embedding\" height=\"400\" />\n",
        "\n",
        "Dimensions sind ohne Batch-Size.\n",
        "\n",
        "## Input-Dimensions\n",
        "\n",
        "**Dimensions:** $H_0 = 64px, \\quad W_0 = 64px, \\quad C_0 = 3$ \\\n",
        "**Output-Shape:** `(3, 64, 64)`\n",
        "\n",
        "## Conv2d\n",
        "\n",
        "Berechnung Output-Dimensions:\n",
        "\n",
        "$ \\text{kernel size}\\ k = 7, \\quad \\text{stride}\\ s = 4, \\quad \\text{padding}\\ p = 3 $ \\\n",
        "$ H_i = \\frac{H_{i-1} + 2p - k}{s}\\ + 1, \\quad W_i = \\frac{W_{i-1} + 2p - k}{s}\\ + 1 $\n",
        "\n",
        "**Output-Dimensions:** $H_1 = 16px, \\quad W_1 = 16px, \\quad C_1 = 64$ \\\n",
        "**Output-Shape:** `(64, 16, 16)`\n",
        "\n",
        "## Flatten\n",
        "\n",
        "**Output-Dimensions:** $H_1 W_1 \\times C_1 = 16*16 \\times 64$ \\\n",
        "**Output-Shape:** `(256, 64)`\n",
        "\n",
        "## Multi-Head Attention\n",
        "\n",
        "Berechnung der Query-, Key- und Value-Matrizen:\n",
        "\n",
        "$X \\in \\mathbb{R}^{H_1 W_1 \\times C_1}$ \\\n",
        "$d_k$ ist die Dimension der Value-, Query- und Key-Vektoren \\\n",
        "$W^Q, W^K, W^V \\in \\mathbb{R}^{C_1 \\times d_k}$ \\\n",
        "$Q = XW^Q, \\quad K = XW^K, \\quad V = XW^V$\n",
        "\n",
        "$d_k = 64$ \\\n",
        "$Q, K, V \\in \\mathbb{R}^{256 \\times 64}$\n",
        "\n",
        "**Output-Dimensions:** $256 \\times 64$ \\\n",
        "**Output-Shape:** `(256, 64)`\n",
        "\n",
        "## MLP\n",
        "\n",
        "Expansion factor: $e = 4$\n",
        "\n",
        "1. **Step:** Linear ➔ GELU ➔ Dropout\n",
        "   \n",
        "   **Output-Dimensions:** $256 \\times 64 \\times 4 = 256 \\times 256$ \\\n",
        "   **Output-Shape:** `(256, 256)`\n",
        "\n",
        "2. **Step:** Linear ➔ Dropout\n",
        "\n",
        "    **Output-Dimensions:** $256 \\times 256 \\times 64 = 256 \\times 64$ \\\n",
        "    **Output-Shape:** `(256, 64)`\n"
      ]
    },
    {
      "cell_type": "markdown",
      "metadata": {
        "id": "6ul2uMlQes3O"
      },
      "source": [
        "# Imports"
      ]
    },
    {
      "cell_type": "code",
      "execution_count": null,
      "metadata": {
        "id": "nIi1ayzAfHT0"
      },
      "outputs": [],
      "source": [
        "%pip install lightning"
      ]
    },
    {
      "cell_type": "code",
      "execution_count": null,
      "metadata": {
        "id": "Dq96M21xes3O"
      },
      "outputs": [],
      "source": [
        "import os\n",
        "import shutil\n",
        "import matplotlib.pyplot as plt\n",
        "import numpy as np\n",
        "import torch\n",
        "import torch.nn as nn\n",
        "from torch.utils.data import DataLoader, random_split\n",
        "from torchvision import datasets, transforms\n",
        "import lightning as L\n",
        "from einops import rearrange\n",
        "import pytorch_lightning as pl\n",
        "import torch\n",
        "import torch.nn.functional as F\n",
        "from torchmetrics.classification import Accuracy\n",
        "from pathlib import Path"
      ]
    },
    {
      "cell_type": "code",
      "execution_count": null,
      "metadata": {
        "id": "9-f9jaxYes3P"
      },
      "outputs": [],
      "source": [
        "try:\n",
        "    import google.colab\n",
        "\n",
        "    IN_COLAB = True\n",
        "except:\n",
        "    IN_COLAB = False\n",
        "\n",
        "if IN_COLAB:\n",
        "    from google.colab import drive\n",
        "    drive.mount(\"/content/drive\")\n",
        "    data_dir = Path(\"/content/drive/MyDrive/wods/data\")\n",
        "else:\n",
        "    data_dir = Path('data')\n",
        "\n",
        "print(f\"data path: {data_dir}\")"
      ]
    },
    {
      "cell_type": "markdown",
      "metadata": {
        "id": "cjIjjCP2es3Q"
      },
      "source": [
        "# Modell"
      ]
    },
    {
      "cell_type": "code",
      "execution_count": null,
      "metadata": {
        "id": "s7wK3pcies3Q"
      },
      "outputs": [],
      "source": [
        "class EmbeddingBlock(nn.Module):\n",
        "    def __init__(self,\n",
        "                 in_channels=3,\n",
        "                 embed_dim=64,\n",
        "                 patch_size=7,\n",
        "                 stride=4,\n",
        "                 padding=3,\n",
        "                 norm_layer=nn.LayerNorm):\n",
        "        super().__init__()\n",
        "        self.proj = nn.Conv2d(\n",
        "            in_channels, embed_dim,\n",
        "            kernel_size=patch_size,\n",
        "            stride=stride,\n",
        "            padding=padding\n",
        "        )\n",
        "        self.norm = norm_layer(embed_dim)\n",
        "\n",
        "    def forward(self, x):\n",
        "        x = self.proj(x)\n",
        "        x = rearrange(x, 'b c h w -> b (h w) c')\n",
        "        x = self.norm(x)\n",
        "        return x\n",
        "\n",
        "\n",
        "class TransformerBlock(nn.Module):\n",
        "    def __init__(self,\n",
        "                 embed_dim=64,\n",
        "                 num_heads=1,\n",
        "                 mlp_ratio=4.0,\n",
        "                 drop=0.1,\n",
        "                 norm_layer=nn.LayerNorm):\n",
        "        super().__init__()\n",
        "        self.norm1 = norm_layer(embed_dim)\n",
        "        self.attn = nn.MultiheadAttention(embed_dim, num_heads, dropout=drop, batch_first=True)\n",
        "\n",
        "        self.norm2 = norm_layer(embed_dim)\n",
        "        hidden_dim = int(embed_dim * mlp_ratio)\n",
        "        self.mlp = nn.Sequential(\n",
        "            nn.Linear(embed_dim, hidden_dim),\n",
        "            nn.GELU(),\n",
        "            nn.Dropout(drop),\n",
        "            nn.Linear(hidden_dim, embed_dim),\n",
        "            nn.Dropout(drop)\n",
        "        )\n",
        "\n",
        "    def forward(self, x):\n",
        "        x = x + self.attn(self.norm1(x), self.norm1(x), self.norm1(x))[0]\n",
        "        x = x + self.mlp(self.norm2(x))\n",
        "        return x"
      ]
    },
    {
      "cell_type": "markdown",
      "metadata": {
        "id": "szfPHjFFes3Q"
      },
      "source": [
        "## Testing"
      ]
    },
    {
      "cell_type": "code",
      "execution_count": null,
      "metadata": {
        "id": "Dy847tS2es3Q"
      },
      "outputs": [],
      "source": [
        "input = torch.randn(2, 3, 64, 64)\n",
        "excepted_output_shape = (2, 256, 64)\n",
        "\n",
        "embedding_block = EmbeddingBlock()\n",
        "transformer_block = TransformerBlock()\n",
        "\n",
        "output = embedding_block(input)\n",
        "output = transformer_block(output)\n",
        "\n",
        "assert output.shape == excepted_output_shape, f\"Expected shape {excepted_output_shape}, but got {output.shape}\"\n",
        "print(\"Output shape is as expected:\", output.shape)"
      ]
    },
    {
      "cell_type": "markdown",
      "metadata": {
        "id": "sa41nXqUes3Q"
      },
      "source": [
        "# Dataset"
      ]
    },
    {
      "cell_type": "code",
      "execution_count": null,
      "metadata": {
        "id": "OVdIJ27Zes3R"
      },
      "outputs": [],
      "source": [
        "def extract_data(data_dir):\n",
        "    imagenet_dir = os.path.join(data_dir, \"tiny-imagenet-200\")\n",
        "    if os.path.exists(imagenet_dir):\n",
        "        print(\"Data already extracted.\")\n",
        "        return imagenet_dir\n",
        "\n",
        "    imagenetzip_dir = os.path.join(data_dir, \"tiny-imagenet-200.zip\")\n",
        "\n",
        "    if not os.path.exists(imagenetzip_dir):\n",
        "        raise FileNotFoundError(\"Data not found\")\n",
        "\n",
        "    print(\"Extracting data...\")\n",
        "    shutil.unpack_archive(imagenetzip_dir, data_dir)\n",
        "\n",
        "    return imagenet_dir\n",
        "\n",
        "\n",
        "def process_validation_set(val_images_dir, val_annotations_file, val_processed_dir):\n",
        "    if not os.path.exists(val_processed_dir):\n",
        "        print(\"Processing validation set...\")\n",
        "        os.makedirs(val_processed_dir, exist_ok=True)\n",
        "\n",
        "        with open(val_annotations_file, \"r\") as f:\n",
        "            lines = f.readlines()\n",
        "        img_to_class = {line.split(\"\\t\")[0]: line.split(\"\\t\")[1] for line in lines}\n",
        "\n",
        "        for img_name, class_name in img_to_class.items():\n",
        "            class_folder = os.path.join(val_processed_dir, class_name)\n",
        "            os.makedirs(class_folder, exist_ok=True)\n",
        "            src = os.path.join(val_images_dir, img_name)\n",
        "            dst = os.path.join(class_folder, img_name)\n",
        "            if os.path.exists(src):\n",
        "                shutil.copy(src, dst)\n",
        "\n",
        "\n",
        "def get_tiny_imagenet_loaders(data_dir,\n",
        "                              batch_size=32,\n",
        "                              num_workers=4,\n",
        "                              img_size=64,\n",
        "                              val_split=0.2,\n",
        "                              seed=42):\n",
        "\n",
        "    imagenet_dir = extract_data(data_dir)\n",
        "    train_dir = os.path.join(imagenet_dir, \"train\")\n",
        "    val_dir = os.path.join(imagenet_dir, \"val\")\n",
        "\n",
        "    val_images_dir = os.path.join(val_dir, \"images\")\n",
        "    val_annotations_file = os.path.join(val_dir, \"val_annotations.txt\")\n",
        "\n",
        "    val_processed_dir = os.path.join(imagenet_dir, \"val_processed\")\n",
        "    process_validation_set(val_images_dir, val_annotations_file, val_processed_dir)\n",
        "\n",
        "    train_transforms = transforms.Compose([\n",
        "        transforms.RandomHorizontalFlip(),\n",
        "        transforms.RandomCrop(img_size, padding=4),\n",
        "        transforms.ToTensor(),\n",
        "        transforms.Normalize(mean=[0.4802, 0.4481, 0.3975],\n",
        "                             std=[0.2302, 0.2265, 0.2262]),\n",
        "    ])\n",
        "\n",
        "    val_transforms = transforms.Compose([\n",
        "        transforms.ToTensor(),\n",
        "        transforms.Normalize(mean=[0.4802, 0.4481, 0.3975],\n",
        "                             std=[0.2302, 0.2265, 0.2262]),\n",
        "    ])\n",
        "\n",
        "    train_dataset = datasets.ImageFolder(train_dir, transform=train_transforms)\n",
        "    full_val_dataset = datasets.ImageFolder(val_processed_dir, transform=val_transforms)\n",
        "\n",
        "    val_size = int(val_split * len(full_val_dataset))\n",
        "    test_size = len(full_val_dataset) - val_size\n",
        "    generator = torch.Generator().manual_seed(seed)\n",
        "    val_dataset, test_dataset = random_split(full_val_dataset, [val_size, test_size], generator=generator)\n",
        "\n",
        "    train_loader = DataLoader(\n",
        "        train_dataset,\n",
        "        batch_size=batch_size,\n",
        "        shuffle=True,\n",
        "        num_workers=num_workers,\n",
        "        pin_memory=True\n",
        "    )\n",
        "    val_loader = DataLoader(\n",
        "        val_dataset,\n",
        "        batch_size=batch_size,\n",
        "        shuffle=False,\n",
        "        num_workers=num_workers,\n",
        "        pin_memory=True\n",
        "    )\n",
        "    test_loader = DataLoader(\n",
        "        test_dataset,\n",
        "        batch_size=batch_size,\n",
        "        shuffle=False,\n",
        "        num_workers=num_workers,\n",
        "        pin_memory=True\n",
        "    )\n",
        "\n",
        "    return train_loader, val_loader, test_loader"
      ]
    },
    {
      "cell_type": "code",
      "execution_count": null,
      "metadata": {
        "id": "hUFVhRXUes3R"
      },
      "outputs": [],
      "source": [
        "train_loader, val_loader, test_loader = get_tiny_imagenet_loaders(\n",
        "    data_dir=data_dir,\n",
        "    batch_size=64,\n",
        "    num_workers=8\n",
        ")"
      ]
    },
    {
      "cell_type": "markdown",
      "metadata": {
        "id": "e1d7soVVes3S"
      },
      "source": [
        "### Testing"
      ]
    },
    {
      "cell_type": "code",
      "execution_count": null,
      "metadata": {
        "id": "_D5wTcwres3S"
      },
      "outputs": [],
      "source": [
        "assert len(train_loader.dataset) == 100000 , \"Expected 100000 training samples\"\n",
        "assert len(val_loader.dataset) == 2000, \"Expected 2000 validation samples\"\n",
        "assert len(test_loader.dataset) == 8000, \"Expected 8000 test samples\"\n",
        "\n",
        "assert train_loader.batch_size == 64, \"Expected batch size of 64\"\n",
        "assert val_loader.batch_size == 64, \"Expected batch size of 64\"\n",
        "assert test_loader.batch_size == 64, \"Expected batch size of 64\"\n",
        "\n",
        "assert (next(iter(train_loader))[0].shape == (64, 3, 64, 64)), \"Expected input shape of (64, 3, 64, 64)\"\n",
        "assert (next(iter(val_loader))[0].shape == (64, 3, 64, 64)), \"Expected input shape of (64, 3, 64, 64)\"\n",
        "assert (next(iter(test_loader))[0].shape == (64, 3, 64, 64)), \"Expected input shape of (64, 3, 64, 64)\"\n",
        "\n",
        "print(\"Data loaders are working correctly.\")\n",
        "\n",
        "def imshow(img):\n",
        "    img = img / 2 + 0.5\n",
        "    npimg = img.numpy()\n",
        "    plt.imshow(np.transpose(npimg, (1, 2, 0)))\n",
        "    plt.axis('off')\n",
        "    plt.show()\n",
        "\n",
        "image, label = train_loader.dataset[0]\n",
        "imshow(image)"
      ]
    },
    {
      "cell_type": "markdown",
      "metadata": {
        "id": "wzpsw2Yues3T"
      },
      "source": [
        "# Model"
      ]
    },
    {
      "cell_type": "code",
      "execution_count": null,
      "metadata": {
        "id": "8A8o7685es3T"
      },
      "outputs": [],
      "source": [
        "class CvTSimplifiedEmbedding(nn.Module):\n",
        "    def __init__(self,\n",
        "                 in_channels=3,\n",
        "                 num_classes=200,\n",
        "                 embed_dim=64,\n",
        "                 depth=2):\n",
        "        super().__init__()\n",
        "\n",
        "        self.num_classes = num_classes\n",
        "\n",
        "        self.embedding = EmbeddingBlock(\n",
        "            in_channels=in_channels,\n",
        "            embed_dim=embed_dim,\n",
        "            stride=4,\n",
        "            padding=3,\n",
        "            norm_layer=nn.LayerNorm\n",
        "        )\n",
        "\n",
        "        self.transformer_blocks = nn.Sequential(*[\n",
        "            TransformerBlock() for _ in range(depth)\n",
        "        ])\n",
        "\n",
        "        self.head = nn.Sequential(\n",
        "            nn.AdaptiveAvgPool1d(1),\n",
        "            nn.Flatten(1),\n",
        "            nn.Linear(embed_dim, num_classes)\n",
        "        )\n",
        "\n",
        "\n",
        "    def forward(self, x):\n",
        "        x = self.embedding(x)\n",
        "        x = self.transformer_blocks(x)\n",
        "        x = x.permute(0, 2, 1)\n",
        "        x = self.head(x)\n",
        "        return x"
      ]
    },
    {
      "cell_type": "markdown",
      "metadata": {
        "id": "fR_jkON4es3T"
      },
      "source": [
        "## Testing"
      ]
    },
    {
      "cell_type": "code",
      "execution_count": null,
      "metadata": {
        "id": "S6f5bEphes3U"
      },
      "outputs": [],
      "source": [
        "model = CvTSimplifiedEmbedding()\n",
        "dummy_input = torch.randn(8, 3, 64, 64)\n",
        "output = model(dummy_input)\n",
        "\n",
        "assert output.shape == (8, 200), f\"Expected output shape (8, 200), but got {output.shape}\"\n",
        "print(\"Model output shape is as expected:\", output.shape)"
      ]
    },
    {
      "cell_type": "markdown",
      "metadata": {
        "id": "0ssdD8E3es3U"
      },
      "source": [
        "# Training"
      ]
    },
    {
      "cell_type": "code",
      "execution_count": null,
      "metadata": {
        "id": "4gfnKuY4es3U"
      },
      "outputs": [],
      "source": [
        "class LitModel(pl.LightningModule):\n",
        "    def __init__(self, model):\n",
        "        super().__init__()\n",
        "        self.model = model\n",
        "        self.criterion = torch.nn.CrossEntropyLoss()\n",
        "        self.train_acc = Accuracy(task=\"multiclass\", num_classes=model.num_classes)\n",
        "        self.val_acc = Accuracy(task=\"multiclass\", num_classes=model.num_classes)\n",
        "        self.test_acc = Accuracy(task=\"multiclass\", num_classes=model.num_classes)\n",
        "\n",
        "    def forward(self, x):\n",
        "        return self.model(x)\n",
        "\n",
        "    def training_step(self, batch, batch_idx):\n",
        "        x, y = batch\n",
        "        logits = self(x)\n",
        "        loss = self.criterion(logits, y)\n",
        "        preds = logits.argmax(dim=1)\n",
        "        self.train_acc(preds, y)\n",
        "        self.log('train_loss', loss)\n",
        "        self.log('train_acc', self.train_acc, on_step=False, on_epoch=True)\n",
        "        return loss\n",
        "\n",
        "    def validation_step(self, batch, batch_idx):\n",
        "        x, y = batch\n",
        "        logits = self(x)\n",
        "        loss = self.criterion(logits, y)\n",
        "        preds = logits.argmax(dim=1)\n",
        "        self.val_acc(preds, y)\n",
        "        self.log('val_loss', loss, prog_bar=True)\n",
        "        self.log('val_acc', self.val_acc, on_step=False, on_epoch=True, prog_bar=True)\n",
        "\n",
        "    def test_step(self, batch, batch_idx):\n",
        "        x, y = batch\n",
        "        logits = self(x)\n",
        "        loss = self.criterion(logits, y)\n",
        "        preds = logits.argmax(dim=1)\n",
        "        self.test_acc(preds, y)\n",
        "        self.log('test_loss', loss)\n",
        "        self.log('test_acc', self.test_acc, on_step=False, on_epoch=True)\n",
        "\n",
        "    def configure_optimizers(self):\n",
        "        optimizer = torch.optim.Adam(self.parameters(), lr=1e-3)\n",
        "        return optimizer"
      ]
    },
    {
      "cell_type": "code",
      "execution_count": null,
      "metadata": {
        "id": "oet_8R9Jes3V"
      },
      "outputs": [],
      "source": [
        "from pytorch_lightning import Trainer\n",
        "\n",
        "model = LitModel(CvTSimplifiedEmbedding())\n",
        "trainer = Trainer(max_epochs=10,\n",
        "                  accelerator=\"auto\",\n",
        "                  devices=\"auto\")\n",
        "trainer.fit(model, train_loader, val_loader)\n",
        "trainer.test(model, test_loader)"
      ]
    }
  ],
  "metadata": {
    "colab": {
      "provenance": []
    },
    "kernelspec": {
      "display_name": "Python 3",
      "language": "python",
      "name": "python3"
    },
    "language_info": {
      "codemirror_mode": {
        "name": "ipython",
        "version": 3
      },
      "file_extension": ".py",
      "mimetype": "text/x-python",
      "name": "python",
      "nbconvert_exporter": "python",
      "pygments_lexer": "ipython3",
      "version": "3.12.9"
    }
  },
  "nbformat": 4,
  "nbformat_minor": 0
}
