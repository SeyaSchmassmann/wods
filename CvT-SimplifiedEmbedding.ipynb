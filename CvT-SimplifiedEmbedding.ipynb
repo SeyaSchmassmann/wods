{
 "cells": [
  {
   "cell_type": "markdown",
   "metadata": {},
   "source": [
    "# Convolution Embedding\n",
    "\n",
    "<img src=\"./CvT-SimplifiedEmbedding.drawio.png\" alt=\"CvT-Modell mit Convolutional Embedding\" title=\"CvT-Modell mit Convolutional Embedding\" height=\"400\" />\n",
    "\n",
    "## Input-Dimensions\n",
    "\n",
    "**Dimensions:** $H_0 = 64px, \\quad W_0 = 64px, \\quad C_0 = 3$ \\\n",
    "**Output-Shape:** `(3, 64, 64)`\n",
    "\n",
    "## Conv2d\n",
    "\n",
    "Berechnung Output-Dimensions:\n",
    "\n",
    "$ \\text{kernel size}\\ k = 7, \\quad \\text{stride}\\ s = 4, \\quad \\text{padding}\\ p = 3 $ \\\n",
    "$ H_i = \\frac{H_{i-1} + 2p - k}{s}\\ + 1, \\quad W_i = \\frac{W_{i-1} + 2p - k}{s}\\ + 1 $\n",
    "\n",
    "**Output-Dimensions:** $H_1 = 16px, \\quad W_1 = 16px, \\quad C_1 = 64$ \\\n",
    "**Output-Shape:** `(64, 16, 16)`\n",
    "\n",
    "## Flatten\n",
    "\n",
    "**Output-Dimensions:** $H_1 W_1 \\times C_1 = 16*16 \\times 64$ \\\n",
    "**Output-Shape:** `(64, 256)`\n",
    "\n",
    "## Multi-Head Attention\n",
    "\n",
    "Berechnung der Query-, Key- und Value-Matrizen:\n",
    "\n",
    "$X \\in \\mathbb{R}^{H_1 W_1 \\times C_1}$ \\\n",
    "$d_k$ ist die Dimension der Value-, Query- und Key-Vektoren \\\n",
    "$W^Q, W^K, W^V \\in \\mathbb{R}^{C_1 \\times d_k}$ \\\n",
    "$Q = XW^Q, \\quad K = XW^K, \\quad V = XW^V$\n",
    "\n",
    "$d_k = 64$ \\\n",
    "$Q, K, V \\in \\mathbb{R}^{256 \\times 64}$\n",
    "\n",
    "**Output-Dimensions:** $256 \\times 64$ \\\n",
    "**Output-Shape:** `(64, 256)`\n",
    "\n",
    "## MLP\n",
    "\n"
   ]
  },
  {
   "cell_type": "code",
   "execution_count": null,
   "metadata": {
    "vscode": {
     "languageId": "plaintext"
    }
   },
   "outputs": [],
   "source": []
  }
 ],
 "metadata": {
  "language_info": {
   "name": "python"
  }
 },
 "nbformat": 4,
 "nbformat_minor": 2
}
